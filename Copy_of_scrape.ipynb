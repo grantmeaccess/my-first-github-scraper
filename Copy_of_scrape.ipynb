{
  "cells": [
    {
      "cell_type": "markdown",
      "metadata": {
        "id": "6X25Hau70Wt4"
      },
      "source": [
        "# First Github Scraper\n",
        "\n",
        "This notebook is a simplified version of the IRE tutorial “Web scraping with Python.” Consult [the original material](https://github.com/ireapps/teaching-guide-python-scraping) to learn more about how to write a web scraper."
      ]
    },
    {
      "cell_type": "code",
      "source": [
        "from google.colab import drive\n",
        "drive.mount('/content/drive')"
      ],
      "metadata": {
        "colab": {
          "base_uri": "https://localhost:8080/"
        },
        "id": "YO7AlENH1EAC",
        "outputId": "13113662-1bc1-49dd-9a09-ea89bec61e99"
      },
      "execution_count": 10,
      "outputs": [
        {
          "output_type": "stream",
          "name": "stdout",
          "text": [
            "Mounted at /content/drive\n"
          ]
        }
      ]
    },
    {
      "cell_type": "code",
      "execution_count": 1,
      "metadata": {
        "id": "xmpr8Lu_0Wt4"
      },
      "outputs": [],
      "source": [
        "import requests\n",
        "import bs4"
      ]
    },
    {
      "cell_type": "code",
      "execution_count": 2,
      "metadata": {
        "id": "-JFkfRXq0Wt5"
      },
      "outputs": [],
      "source": [
        "URL = 'http://www.dllr.state.md.us/employment/warn.shtml'"
      ]
    },
    {
      "cell_type": "code",
      "execution_count": 3,
      "metadata": {
        "id": "aDNyCqK20Wt5"
      },
      "outputs": [],
      "source": [
        "warn_page = requests.get(URL)"
      ]
    },
    {
      "cell_type": "code",
      "execution_count": 4,
      "metadata": {
        "id": "CEVDwoCf0Wt5"
      },
      "outputs": [],
      "source": [
        "soup = bs4.BeautifulSoup(warn_page.text, 'html.parser')"
      ]
    },
    {
      "cell_type": "code",
      "execution_count": 5,
      "metadata": {
        "id": "RmVQODai0Wt5"
      },
      "outputs": [],
      "source": [
        "table = soup.find('table')"
      ]
    },
    {
      "cell_type": "code",
      "execution_count": 6,
      "metadata": {
        "id": "r3cXXFYC0Wt5"
      },
      "outputs": [],
      "source": [
        "rows = table.find_all('tr')"
      ]
    },
    {
      "cell_type": "code",
      "execution_count": 7,
      "metadata": {
        "id": "fQ9uHYoG0Wt5"
      },
      "outputs": [],
      "source": [
        "import csv"
      ]
    },
    {
      "cell_type": "code",
      "execution_count": 8,
      "metadata": {
        "id": "bPMOvA0W0Wt5"
      },
      "outputs": [],
      "source": [
        "HEADERS = [\n",
        "    'warn_date',\n",
        "    'naics_code',\n",
        "    'biz',\n",
        "    'address',\n",
        "    'wia_code',\n",
        "    'total_employees',\n",
        "    'effective_date',\n",
        "    'type_code'\n",
        "]"
      ]
    },
    {
      "cell_type": "code",
      "execution_count": 9,
      "metadata": {
        "id": "Yjfqw06x0Wt5"
      },
      "outputs": [],
      "source": [
        "with open('warn-data.csv', 'w', newline='') as outfile:\n",
        "    writer = csv.writer(outfile)\n",
        "    writer.writerow(HEADERS)\n",
        "    for row in rows[1:]:\n",
        "        cells = row.find_all('td')\n",
        "        values = [c.text.strip() for c in cells]\n",
        "        writer.writerow(values)"
      ]
    }
  ],
  "metadata": {
    "kernelspec": {
      "display_name": "Python 3 (ipykernel)",
      "language": "python",
      "name": "python3"
    },
    "language_info": {
      "codemirror_mode": {
        "name": "ipython",
        "version": 3
      },
      "file_extension": ".py",
      "mimetype": "text/x-python",
      "name": "python",
      "nbconvert_exporter": "python",
      "pygments_lexer": "ipython3",
      "version": "3.9.9"
    },
    "colab": {
      "provenance": []
    }
  },
  "nbformat": 4,
  "nbformat_minor": 0
}